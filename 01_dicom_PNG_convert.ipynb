{
 "cells": [
  {
   "cell_type": "markdown",
   "source": [
    "# Dicom 이미지 변환\n",
    "\n",
    "#### 참고: https://sosal.kr/1084 \n",
    "\n",
    "\n",
    "https://github.com/danishm/mritopng  활용\n",
    "\n",
    "### 순서 :\n",
    "\n",
    "#### mritopng-master.zip 파일 다운 후 \n",
    "\n",
    "#### pip install -r requirements.txt\n",
    "\n",
    "#### python setup.py install"
   ],
   "metadata": {}
  },
  {
   "cell_type": "code",
   "execution_count": 1,
   "source": [
    "import os\n",
    "os.getcwd()"
   ],
   "outputs": [
    {
     "output_type": "execute_result",
     "data": {
      "text/plain": [
       "'/home/class3/x_ray'"
      ]
     },
     "metadata": {},
     "execution_count": 1
    }
   ],
   "metadata": {}
  },
  {
   "cell_type": "code",
   "execution_count": 2,
   "source": [
    "%cd ./mritopng-master"
   ],
   "outputs": [
    {
     "output_type": "stream",
     "name": "stdout",
     "text": [
      "/home/class3/x_ray/mritopng-master\n"
     ]
    }
   ],
   "metadata": {}
  },
  {
   "cell_type": "code",
   "execution_count": 3,
   "source": [
    "!pip install -r requirements.txt"
   ],
   "outputs": [
    {
     "output_type": "stream",
     "name": "stdout",
     "text": [
      "/usr/lib/python3/dist-packages/secretstorage/dhcrypto.py:15: CryptographyDeprecationWarning: int_from_bytes is deprecated, use int.from_bytes instead\n",
      "  from cryptography.utils import int_from_bytes\n",
      "/usr/lib/python3/dist-packages/secretstorage/util.py:19: CryptographyDeprecationWarning: int_from_bytes is deprecated, use int.from_bytes instead\n",
      "  from cryptography.utils import int_from_bytes\n",
      "Requirement already satisfied: numpy>=1.14.1 in /usr/local/lib/python3.8/dist-packages (from -r requirements.txt (line 1)) (1.19.5)\n",
      "Requirement already satisfied: pydicom==1.0.2 in /usr/local/lib/python3.8/dist-packages (from -r requirements.txt (line 2)) (1.0.2)\n",
      "Requirement already satisfied: pypng==0.0.18 in /usr/local/lib/python3.8/dist-packages (from -r requirements.txt (line 3)) (0.0.18)\n",
      "Requirement already satisfied: nose in /usr/local/lib/python3.8/dist-packages (from -r requirements.txt (line 4)) (1.3.7)\n"
     ]
    }
   ],
   "metadata": {}
  },
  {
   "cell_type": "code",
   "execution_count": 4,
   "source": [
    "!python setup.py install"
   ],
   "outputs": [
    {
     "output_type": "stream",
     "name": "stdout",
     "text": [
      "Traceback (most recent call last):\r\n",
      "  File \"setup.py\", line 3, in <module>\r\n",
      "    from setuptools import setup\r\n",
      "ImportError: No module named setuptools\r\n"
     ]
    }
   ],
   "metadata": {}
  },
  {
   "cell_type": "code",
   "execution_count": 5,
   "source": [
    "!pip install pylibjpeg pylibjpeg-libjpeg pylibjpeg-openjpeg"
   ],
   "outputs": [
    {
     "output_type": "stream",
     "name": "stdout",
     "text": [
      "/usr/lib/python3/dist-packages/secretstorage/dhcrypto.py:15: CryptographyDeprecationWarning: int_from_bytes is deprecated, use int.from_bytes instead\n",
      "  from cryptography.utils import int_from_bytes\n",
      "/usr/lib/python3/dist-packages/secretstorage/util.py:19: CryptographyDeprecationWarning: int_from_bytes is deprecated, use int.from_bytes instead\n",
      "  from cryptography.utils import int_from_bytes\n",
      "Requirement already satisfied: pylibjpeg in /usr/local/lib/python3.8/dist-packages (1.3.0)\n",
      "Requirement already satisfied: pylibjpeg-libjpeg in /usr/local/lib/python3.8/dist-packages (1.2.0)\n",
      "Requirement already satisfied: pylibjpeg-openjpeg in /usr/local/lib/python3.8/dist-packages (1.1.1)\n",
      "Requirement already satisfied: pylibjpeg-rle in /usr/local/lib/python3.8/dist-packages (from pylibjpeg) (1.1.0)\n",
      "Requirement already satisfied: numpy in /usr/local/lib/python3.8/dist-packages (from pylibjpeg) (1.19.5)\n"
     ]
    }
   ],
   "metadata": {}
  },
  {
   "cell_type": "markdown",
   "source": [
    "### 아래 에러 방지\n",
    "### conda install pydicom --channel conda-forge ( prompt 창에서 to get pydicom's latest )\n",
    "###  conda install -c conda-forge gdcm 필요 (prompt 창에서 to get the gdcm)\n",
    "\n",
    "NotImplementedError: No available image handler could decode this transfer syntax JPEG 2000 Image Compression (Lossless Only) "
   ],
   "metadata": {}
  },
  {
   "cell_type": "code",
   "execution_count": 3,
   "source": [
    "import mritopng\r\n",
    "# Convert a since file\r\n",
    "# mritopng.convert_file('./data', '.data/PNG/')\r\n",
    "# Convert a whole folder recursively\r\n",
    "# mritopng.convert_folder('/home/user/DICOM/', '/home/user/PNG/')"
   ],
   "outputs": [
    {
     "output_type": "error",
     "ename": "ModuleNotFoundError",
     "evalue": "No module named 'mritopng'",
     "traceback": [
      "\u001b[0;31m---------------------------------------------------------------------------\u001b[0m",
      "\u001b[0;31mModuleNotFoundError\u001b[0m                       Traceback (most recent call last)",
      "\u001b[0;32m/tmp/ipykernel_3281616/4187701090.py\u001b[0m in \u001b[0;36m<module>\u001b[0;34m\u001b[0m\n\u001b[0;32m----> 1\u001b[0;31m \u001b[0;32mimport\u001b[0m \u001b[0mmritopng\u001b[0m\u001b[0;34m\u001b[0m\u001b[0;34m\u001b[0m\u001b[0m\n\u001b[0m\u001b[1;32m      2\u001b[0m \u001b[0;31m# Convert a since file\u001b[0m\u001b[0;34m\u001b[0m\u001b[0;34m\u001b[0m\u001b[0;34m\u001b[0m\u001b[0m\n\u001b[1;32m      3\u001b[0m \u001b[0;31m# mritopng.convert_file('./data', '.data/PNG/')\u001b[0m\u001b[0;34m\u001b[0m\u001b[0;34m\u001b[0m\u001b[0;34m\u001b[0m\u001b[0m\n\u001b[1;32m      4\u001b[0m \u001b[0;31m# Convert a whole folder recursively\u001b[0m\u001b[0;34m\u001b[0m\u001b[0;34m\u001b[0m\u001b[0;34m\u001b[0m\u001b[0m\n\u001b[1;32m      5\u001b[0m \u001b[0;31m# mritopng.convert_folder('/home/user/DICOM/', '/home/user/PNG/')\u001b[0m\u001b[0;34m\u001b[0m\u001b[0;34m\u001b[0m\u001b[0;34m\u001b[0m\u001b[0m\n",
      "\u001b[0;31mModuleNotFoundError\u001b[0m: No module named 'mritopng'"
     ]
    }
   ],
   "metadata": {}
  },
  {
   "cell_type": "code",
   "execution_count": 11,
   "source": [
    "os.getcwd()"
   ],
   "outputs": [
    {
     "output_type": "execute_result",
     "data": {
      "text/plain": [
       "'/home/class3/x_ray'"
      ]
     },
     "metadata": {},
     "execution_count": 11
    }
   ],
   "metadata": {}
  },
  {
   "cell_type": "code",
   "execution_count": 12,
   "source": [
    "%cd /home/class3/x_ray/"
   ],
   "outputs": [
    {
     "output_type": "stream",
     "name": "stdout",
     "text": [
      "/home/class3/x_ray\n"
     ]
    }
   ],
   "metadata": {}
  },
  {
   "cell_type": "markdown",
   "source": [
    "## dicom 파일을 ./data/images  아래에 넣고 실행"
   ],
   "metadata": {}
  },
  {
   "cell_type": "code",
   "execution_count": 1,
   "source": [
    "mritopng.convert_folder('./data/org/train', './data/images/train')"
   ],
   "outputs": [
    {
     "output_type": "error",
     "ename": "NameError",
     "evalue": "name 'mritopng' is not defined",
     "traceback": [
      "\u001b[0;31m---------------------------------------------------------------------------\u001b[0m",
      "\u001b[0;31mNameError\u001b[0m                                 Traceback (most recent call last)",
      "\u001b[0;32m/tmp/ipykernel_3281616/3030665749.py\u001b[0m in \u001b[0;36m<module>\u001b[0;34m\u001b[0m\n\u001b[0;32m----> 1\u001b[0;31m \u001b[0mmritopng\u001b[0m\u001b[0;34m.\u001b[0m\u001b[0mconvert_folder\u001b[0m\u001b[0;34m(\u001b[0m\u001b[0;34m'./data/org/train'\u001b[0m\u001b[0;34m,\u001b[0m \u001b[0;34m'./data/images/train'\u001b[0m\u001b[0;34m)\u001b[0m\u001b[0;34m\u001b[0m\u001b[0;34m\u001b[0m\u001b[0m\n\u001b[0m",
      "\u001b[0;31mNameError\u001b[0m: name 'mritopng' is not defined"
     ]
    }
   ],
   "metadata": {}
  },
  {
   "cell_type": "code",
   "execution_count": null,
   "source": [
    "mritopng.convert_folder('./data/org/val', './data/images/val')"
   ],
   "outputs": [],
   "metadata": {}
  },
  {
   "cell_type": "code",
   "execution_count": null,
   "source": [
    "import os\r\n",
    "import glob\r\n",
    "\r\n",
    "path = '/home/class/x_ray/data/images'\r\n",
    "files = os.listdir(path)\r\n",
    "for f in files:\r\n",
    "    print (f)"
   ],
   "outputs": [],
   "metadata": {}
  },
  {
   "cell_type": "code",
   "execution_count": null,
   "source": [
    "import os\r\n",
    "# 주어진 디렉토리에 있는 항목들의 이름을 담고 있는 리스트를 반환합니다.\r\n",
    "# 리스트는 임의의 순서대로 나열됩니다.\r\n",
    "file_img_path = '/home/class3/x_ray/data/images'\r\n",
    "file_names = os.listdir(file_img_path)\r\n",
    "for name in file_names:\r\n",
    "    src = os.path.join(file_img_path, name)\r\n",
    "    dst_st1=name.split('.')[0]\r\n",
    "#     print(dst_st1)\r\n",
    "    dst_st2 = dst_st1+ '.png'\r\n",
    "    dst = os.path.join(file_img_path, dst_st2)\r\n",
    "    print(src)\r\n",
    "    print(dst)\r\n",
    "    print('__'*10)\r\n",
    "#     os.rename(src, dst)"
   ],
   "outputs": [],
   "metadata": {}
  },
  {
   "cell_type": "code",
   "execution_count": null,
   "source": [
    "# import os\n",
    "# # 주어진 디렉토리에 있는 항목들의 이름을 담고 있는 리스트를 반환합니다.\n",
    "# # 리스트는 임의의 순서대로 나열됩니다.\n",
    "# file_img_path = 'C:/Users/4Kims/0_python/x_ray/data/images/train'\n",
    "# file_lb_path = 'C:/Users/4Kims/0_python/x_ray/data/labels/train'\n",
    "# file_names = os.listdir(file_lb_path)\n",
    "# img_names = os.listdir(file_img_path)\n",
    "# for name in file_names:\n",
    "#     txt_src = os.path.join(file_img_path, name)\n",
    "#     dst_st1=name.split('.')[0]\n",
    "# #     print(dst_st1)\n",
    "#     dst_st2 = dst_st1+ '.png'\n",
    "#     dst = os.path.join(file_img_path, dst_st2)\n",
    "#     for img_name in img_names:\n",
    "#         if img_name.find(dst_st1) == 0:\n",
    "#             src = os.path.join(file_img_path, img_name)\n",
    "# #             print(dst_st1, \" \", img_name)\n",
    "#             break\n",
    "#     print(src)\n",
    "#     print(dst)\n",
    "#     print('__'*10)\n",
    "#     os.rename(src, dst)"
   ],
   "outputs": [],
   "metadata": {}
  }
 ],
 "metadata": {
  "kernelspec": {
   "display_name": "Python 3 (ipykernel)",
   "language": "python",
   "name": "python3"
  },
  "language_info": {
   "codemirror_mode": {
    "name": "ipython",
    "version": 3
   },
   "file_extension": ".py",
   "mimetype": "text/x-python",
   "name": "python",
   "nbconvert_exporter": "python",
   "pygments_lexer": "ipython3",
   "version": "3.8.10"
  }
 },
 "nbformat": 4,
 "nbformat_minor": 5
}